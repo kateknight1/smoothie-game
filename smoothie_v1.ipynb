{
 "cells": [
  {
   "cell_type": "code",
   "execution_count": 6,
   "metadata": {},
   "outputs": [],
   "source": [
    "import random\n",
    "import math\n",
    "import pygame\n",
    "import time"
   ]
  },
  {
   "cell_type": "code",
   "execution_count": 69,
   "metadata": {},
   "outputs": [],
   "source": [
    "#total ingredient lists\n",
    "all_fruits = [\"banana\", \"apple\", \"blueberry\", \"strawberry\",\n",
    "              \"raspberry\", \"mango\", \"orange\", \"pineapple\",\n",
    "              \"kiwi\", \"forest_fruit_mix\", \"watermelon\", \"cherry\", \"blackberry\"]\n",
    "all_liquids = [\"cow's milk\", \"soy milk\", \"almond milk\", \"coconut milk\",\n",
    "               \"oat milk\", \"rice milk\", \"hazelnut milk\", \"skim milk\",\n",
    "               \"natural yoghurt\", \"apple juice\", \"orange juice\", \"lemon juice\",\n",
    "               \"cranberry juice\", \"pineapple juice\", \"grape juice\", \"pomegranate juice\"]\n",
    "all_miscs = [\"honey\", \"maple syrup\", \"oats\", \"seeds\", \"peanut butter\",\n",
    "             \"almond butter\", \"protein powder\", \"mint\", \"cinnamon\", \"ginger\", \n",
    "             \"tumeric\"]\n",
    "\n",
    "non_vegan = [\"cow's milk\", \"skim milk\", \"natural yoghurt\", \"honey\"]\n",
    "dairy = [\"cow's milk\", \"skim milk\", \"natural yoghurt\"]\n",
    "\n",
    "#starting ingredient lists\n",
    "fruits = [\"banana\", \"apple\", \"blueberry\", \"strawberry\"]\n",
    "liquids = [\"cow's milk\", \"soy milk\", \"apple juice\", \"lemon juice\"]\n",
    "miscs = [\"honey\", \"oats\", \"protein powder\", \"peanut butter\"]\n",
    "\n",
    "#starting max fruits\n",
    "max_fruits = 2\n",
    "\n",
    "#starting max liquids\n",
    "max_liquids = 1\n",
    "\n",
    "#starting max other ingredients\n",
    "max_miscs = 1"
   ]
  },
  {
   "cell_type": "code",
   "execution_count": 75,
   "metadata": {},
   "outputs": [
    {
     "data": {
      "text/plain": [
       "'apple'"
      ]
     },
     "execution_count": 75,
     "metadata": {},
     "output_type": "execute_result"
    }
   ],
   "source": [
    "#function to get random ingredient from list\n",
    "def get_rand_ingredient(ingredient_list):\n",
    "    return ingredient_list[random.randrange(0, len(ingredient_list))]\n",
    "\n",
    "get_rand_ingredient(fruits)\n",
    "\n",
    "#function to get random ingreient from "
   ]
  },
  {
   "cell_type": "code",
   "execution_count": 72,
   "metadata": {},
   "outputs": [
    {
     "data": {
      "text/plain": [
       "['lemon juice', 'oats', 'apple', 'strawberry']"
      ]
     },
     "execution_count": 72,
     "metadata": {},
     "output_type": "execute_result"
    }
   ],
   "source": [
    "#create order with up to 2 fruits, 1 liquid, 1 other\n",
    "def create_order():\n",
    "    order_ingredients = []\n",
    "    #random liquid\n",
    "    order_ingredients.append(get_rand_ingredient(liquids))\n",
    "    #random misc\n",
    "    order_ingredients.append(get_rand_ingredient(miscs))\n",
    "    #get multiple fruits\n",
    "    for i in range(1, max_fruits+1):\n",
    "        order_ingredients.append(get_rand_ingredient(fruits))\n",
    "\n",
    "    return order_ingredients\n",
    "    \n",
    "create_order()"
   ]
  },
  {
   "cell_type": "code",
   "execution_count": 99,
   "metadata": {},
   "outputs": [
    {
     "name": "stdout",
     "output_type": "stream",
     "text": [
      "banana\n",
      "cherry\n",
      "grape\n",
      "fig\n",
      "date\n",
      "apple\n"
     ]
    }
   ],
   "source": [
    "items = [\"apple\", \"banana\", \"cherry\", \"date\", \"fig\", \"grape\"]\n",
    "\n",
    "# Get a random item for each number in a range\n",
    "for item in random.sample(items, len(items)):\n",
    "    print(item)"
   ]
  },
  {
   "cell_type": "code",
   "execution_count": null,
   "metadata": {},
   "outputs": [],
   "source": []
  }
 ],
 "metadata": {
  "kernelspec": {
   "display_name": "Python 3",
   "language": "python",
   "name": "python3"
  },
  "language_info": {
   "codemirror_mode": {
    "name": "ipython",
    "version": 3
   },
   "file_extension": ".py",
   "mimetype": "text/x-python",
   "name": "python",
   "nbconvert_exporter": "python",
   "pygments_lexer": "ipython3",
   "version": "3.12.6"
  }
 },
 "nbformat": 4,
 "nbformat_minor": 2
}
