{
 "cells": [
  {
   "cell_type": "code",
   "execution_count": 1,
   "metadata": {},
   "outputs": [
    {
     "name": "stdout",
     "output_type": "stream",
     "text": [
      "pygame 2.6.1 (SDL 2.28.4, Python 3.12.6)\n",
      "Hello from the pygame community. https://www.pygame.org/contribute.html\n"
     ]
    }
   ],
   "source": [
    "import random\n",
    "import math\n",
    "import pygame\n",
    "import time"
   ]
  },
  {
   "cell_type": "code",
   "execution_count": 2,
   "metadata": {},
   "outputs": [],
   "source": [
    "#total ingredient lists\n",
    "all_fruits = [\"banana\", \"apple\", \"blueberry\", \"strawberry\",\n",
    "              \"raspberry\", \"mango\", \"orange\", \"pineapple\",\n",
    "              \"kiwi\", \"mixed berries\", \"watermelon\", \"cherry\", \"blackberry\"]\n",
    "all_liquids = [\"cow's milk\", \"soy milk\", \"almond milk\", \"coconut milk\",\n",
    "               \"oat milk\", \"rice milk\", \"hazelnut milk\", \"skim milk\",\n",
    "               \"natural yoghurt\", \"apple juice\", \"orange juice\", \"lemon juice\",\n",
    "               \"cranberry juice\", \"pineapple juice\", \"grape juice\", \"pomegranate juice\"]\n",
    "all_miscs = [\"honey\", \"maple syrup\", \"oats\", \"seeds\", \"peanut butter\",\n",
    "             \"almond butter\", \"protein powder\", \"mint\", \"cinnamon\", \"ginger\", \n",
    "             \"tumeric\"]\n",
    "\n",
    "#dietary restrictions\n",
    "non_vegan = [\"cow's milk\", \"skim milk\", \"natural yoghurt\", \"honey\"]\n",
    "dairy = [\"cow's milk\", \"skim milk\", \"natural yoghurt\"]\n",
    "\n",
    "#starting ingredient lists\n",
    "fruits = [\"banana\", \"apple\", \"blueberry\", \"strawberry\"]\n",
    "liquids = [\"cow's milk\", \"soy milk\", \"apple juice\", \"lemon juice\"]\n",
    "miscs = [\"honey\", \"oats\", \"protein powder\", \"peanut butter\"]\n",
    "\n",
    "#starting max fruits\n",
    "max_fruits = 2\n",
    "#starting max liquids\n",
    "max_liquids = 1\n",
    "#starting max other ingredients\n",
    "max_miscs = 1"
   ]
  },
  {
   "cell_type": "code",
   "execution_count": 3,
   "metadata": {},
   "outputs": [
    {
     "data": {
      "text/plain": [
       "['soy milk', 'peanut butter', 'apple', 'banana']"
      ]
     },
     "execution_count": 3,
     "metadata": {},
     "output_type": "execute_result"
    }
   ],
   "source": [
    "#create order with up to 2 fruits, 1 liquid, 1 other\n",
    "def create_order():\n",
    "    order_ingredients = []\n",
    "    #random liquid\n",
    "    for liquid in random.sample(liquids, random.randint(1, max_liquids)):\n",
    "        order_ingredients.append(liquid)\n",
    "    #random misc\n",
    "    for misc in random.sample(miscs, random.randint(1, max_miscs)):\n",
    "        order_ingredients.append(misc)\n",
    "    #get multiple fruits\n",
    "    for fruit in random.sample(fruits, random.randint(1, max_fruits)):\n",
    "        order_ingredients.append(fruit)\n",
    "\n",
    "    return order_ingredients\n",
    "    \n",
    "create_order()"
   ]
  },
  {
   "cell_type": "code",
   "execution_count": 4,
   "metadata": {},
   "outputs": [],
   "source": [
    "# initialize pygame\n",
    "pygame.init()\n",
    "\n",
    "#screen setup\n",
    "WIDTH = 960\n",
    "HEIGHT = 540\n",
    "\n",
    "#create screen\n",
    "screen = pygame.display.set_mode((WIDTH, HEIGHT))\n",
    "\n",
    "#create clock\n",
    "clock = pygame.time.Clock\n",
    "\n",
    "#title & icon\n",
    "pygame.display.set_caption(\"Smoothie Shop\")\n",
    "icon = pygame.image.load(\"art/smoothie.png\")\n",
    "pygame.display.set_icon(icon)\n",
    "# <a href=\"https://www.flaticon.com/free-icons/smoothie\" title=\"smoothie icons\">Smoothie icons created by Flat Icons - Flaticon</a>\n",
    "\n",
    "#font\n",
    "pygame.font.init()\n",
    "main_font = pygame.font.SysFont('Kristen ITC', 28)\n",
    "time_font = pygame.font.SysFont('LT Stopwatch', 60)\n",
    "\n",
    "#load background images\n",
    "bar = pygame.image.load(\"art/bar.png\").convert_alpha()\n",
    "prep_area = pygame.image.load(\"art/prep_area.png\").convert_alpha()\n",
    "\n",
    "#load blender images\n",
    "blender = pygame.image.load(\"art/blender.png\").convert_alpha()\n",
    "mixture = pygame.image.load(\"art/blender_contents.png\").convert_alpha()\n",
    "\n",
    "#load button images\n",
    "kitchen_button_img = pygame.image.load(\"art/kitchen_button.png\").convert_alpha()\n",
    "service_button_img = pygame.image.load(\"art/service_button.png\").convert_alpha()\n",
    "\n",
    "#button class\n",
    "class Button():\n",
    "    def __init__(self, x, y, image, scale):\n",
    "          width = image.get_width()\n",
    "          height = image.get_height()\n",
    "          self.image = pygame.transform.scale(image, (int(width*scale),int(height*scale)))\n",
    "          self.rect = self.image.get_rect()\n",
    "          self.rect.topleft = (x, y)\n",
    "    def draw(self):\n",
    "         screen.blit(self.image, (self.rect.x, self.rect.y))\n",
    "\n",
    "#create button instances\n",
    "kitchen_button = Button(50, HEIGHT-125, kitchen_button_img, 4)\n",
    "service_button = Button(WIDTH-178, HEIGHT-125, service_button_img, 4)\n",
    "\n",
    "#game loop\n",
    "running = True\n",
    "while running:\n",
    "\n",
    "    screen.fill((255, 120, 180)) #fill pink\n",
    "    \n",
    "    kitchen_button.draw()\n",
    "    service_button.draw()\n",
    "      \n",
    "    for event in pygame.event.get():\n",
    "            if event.type == pygame.QUIT:\n",
    "                running = False\n",
    "\n",
    "    pygame.display.update()\n",
    "\n",
    "pygame.quit()"
   ]
  }
 ],
 "metadata": {
  "kernelspec": {
   "display_name": "Python 3",
   "language": "python",
   "name": "python3"
  },
  "language_info": {
   "codemirror_mode": {
    "name": "ipython",
    "version": 3
   },
   "file_extension": ".py",
   "mimetype": "text/x-python",
   "name": "python",
   "nbconvert_exporter": "python",
   "pygments_lexer": "ipython3",
   "version": "3.12.6"
  }
 },
 "nbformat": 4,
 "nbformat_minor": 2
}
