{
 "cells": [
  {
   "cell_type": "code",
   "execution_count": 1,
   "metadata": {},
   "outputs": [
    {
     "name": "stdout",
     "output_type": "stream",
     "text": [
      "pygame 2.6.1 (SDL 2.28.4, Python 3.12.6)\n",
      "Hello from the pygame community. https://www.pygame.org/contribute.html\n"
     ]
    }
   ],
   "source": [
    "import random\n",
    "import math\n",
    "import pygame\n",
    "import time"
   ]
  },
  {
   "cell_type": "code",
   "execution_count": 2,
   "metadata": {},
   "outputs": [],
   "source": [
    "#total ingredient lists\n",
    "all_fruits = [\"banana\", \"apple\", \"blueberry\", \"strawberry\",\n",
    "              \"raspberry\", \"mango\", \"orange\", \"pineapple\",\n",
    "              \"kiwi\", \"forest_fruit_mix\", \"watermelon\", \"cherry\", \"blackberry\"]\n",
    "all_liquids = [\"cow's milk\", \"soy milk\", \"almond milk\", \"coconut milk\",\n",
    "               \"oat milk\", \"rice milk\", \"hazelnut milk\", \"skim milk\",\n",
    "               \"natural yoghurt\", \"apple juice\", \"orange juice\", \"lemon juice\",\n",
    "               \"cranberry juice\", \"pineapple juice\", \"grape juice\", \"pomegranate juice\"]\n",
    "all_miscs = [\"honey\", \"maple syrup\", \"oats\", \"seeds\", \"peanut butter\",\n",
    "             \"almond butter\", \"protein powder\", \"mint\", \"cinnamon\", \"ginger\", \n",
    "             \"tumeric\"]\n",
    "\n",
    "#dietary restrictions\n",
    "non_vegan = [\"cow's milk\", \"skim milk\", \"natural yoghurt\", \"honey\"]\n",
    "dairy = [\"cow's milk\", \"skim milk\", \"natural yoghurt\"]\n",
    "\n",
    "#starting ingredient lists\n",
    "fruits = [\"banana\", \"apple\", \"blueberry\", \"strawberry\"]\n",
    "liquids = [\"cow's milk\", \"soy milk\", \"apple juice\", \"lemon juice\"]\n",
    "miscs = [\"honey\", \"oats\", \"protein powder\", \"peanut butter\"]\n",
    "\n",
    "#starting max fruits\n",
    "max_fruits = 2\n",
    "#starting max liquids\n",
    "max_liquids = 1\n",
    "#starting max other ingredients\n",
    "max_miscs = 1"
   ]
  },
  {
   "cell_type": "code",
   "execution_count": 3,
   "metadata": {},
   "outputs": [
    {
     "data": {
      "text/plain": [
       "[\"cow's milk\", 'honey', 'apple']"
      ]
     },
     "execution_count": 3,
     "metadata": {},
     "output_type": "execute_result"
    }
   ],
   "source": [
    "#create order with up to 2 fruits, 1 liquid, 1 other\n",
    "def create_order():\n",
    "    order_ingredients = []\n",
    "    #random liquid\n",
    "    for liquid in random.sample(liquids, random.randint(1, max_liquids)):\n",
    "        order_ingredients.append(liquid)\n",
    "    #random misc\n",
    "    for misc in random.sample(miscs, random.randint(1, max_miscs)):\n",
    "        order_ingredients.append(misc)\n",
    "    #get multiple fruits\n",
    "    for fruit in random.sample(fruits, random.randint(1, max_fruits)):\n",
    "        order_ingredients.append(fruit)\n",
    "\n",
    "    return order_ingredients\n",
    "    \n",
    "create_order()"
   ]
  },
  {
   "cell_type": "code",
   "execution_count": null,
   "metadata": {},
   "outputs": [
    {
     "ename": "",
     "evalue": "",
     "output_type": "error",
     "traceback": [
      "\u001b[1;31mThe Kernel crashed while executing code in the current cell or a previous cell. \n",
      "\u001b[1;31mPlease review the code in the cell(s) to identify a possible cause of the failure. \n",
      "\u001b[1;31mClick <a href='https://aka.ms/vscodeJupyterKernelCrash'>here</a> for more info. \n",
      "\u001b[1;31mView Jupyter <a href='command:jupyter.viewOutput'>log</a> for further details."
     ]
    }
   ],
   "source": [
    "# initialize pygame\n",
    "pygame.init()\n",
    "\n",
    "#screen setup\n",
    "WIDTH = 960\n",
    "HEIGHT = 540\n",
    "\n",
    "#create screen\n",
    "screen = pygame.display.set_mode((WIDTH, HEIGHT))\n",
    "\n",
    "#create clock\n",
    "clock = pygame.time.Clock\n",
    "\n",
    "\n",
    "#title & icon\n",
    "pygame.display.set_caption(\"Smoothie Shop\")\n",
    "icon = pygame.image.load(\"art/smoothie.png\")\n",
    "pygame.display.set_icon(icon)\n",
    "# <a href=\"https://www.flaticon.com/free-icons/smoothie\" title=\"smoothie icons\">Smoothie icons created by Flat Icons - Flaticon</a>\n",
    "\n",
    "#game loop\n",
    "running = True\n",
    "while running: \n",
    "      \n",
    "    for event in pygame.event.get():\n",
    "            if event.type == pygame.QUIT:\n",
    "                running = False"
   ]
  }
 ],
 "metadata": {
  "kernelspec": {
   "display_name": "Python 3",
   "language": "python",
   "name": "python3"
  },
  "language_info": {
   "codemirror_mode": {
    "name": "ipython",
    "version": 3
   },
   "file_extension": ".py",
   "mimetype": "text/x-python",
   "name": "python",
   "nbconvert_exporter": "python",
   "pygments_lexer": "ipython3",
   "version": "3.12.6"
  }
 },
 "nbformat": 4,
 "nbformat_minor": 2
}
